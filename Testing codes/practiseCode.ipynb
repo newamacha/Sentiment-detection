{
 "cells": [
  {
   "cell_type": "code",
   "execution_count": 1,
   "metadata": {},
   "outputs": [
    {
     "ename": "UnicodeDecodeError",
     "evalue": "'charmap' codec can't decode byte 0x8d in position 1824: character maps to <undefined>",
     "output_type": "error",
     "traceback": [
      "\u001b[1;31m---------------------------------------------------------------------------\u001b[0m",
      "\u001b[1;31mUnicodeDecodeError\u001b[0m                        Traceback (most recent call last)",
      "Cell \u001b[1;32mIn[1], line 8\u001b[0m\n\u001b[0;32m      6\u001b[0m \u001b[39m# Read the content of the input file\u001b[39;00m\n\u001b[0;32m      7\u001b[0m \u001b[39mwith\u001b[39;00m \u001b[39mopen\u001b[39m(input_file, \u001b[39m\"\u001b[39m\u001b[39mr\u001b[39m\u001b[39m\"\u001b[39m) \u001b[39mas\u001b[39;00m file:\n\u001b[1;32m----> 8\u001b[0m     content \u001b[39m=\u001b[39m file\u001b[39m.\u001b[39;49mread()\n\u001b[0;32m     10\u001b[0m punctuations \u001b[39m=\u001b[39m string\u001b[39m.\u001b[39mpunctuation\u001b[39m.\u001b[39mreplace(\u001b[39m\"\u001b[39m\u001b[39m-\u001b[39m\u001b[39m\"\u001b[39m, \u001b[39m\"\u001b[39m\u001b[39m\"\u001b[39m)\n\u001b[0;32m     12\u001b[0m \u001b[39m# Remove numbers, commas, and backslashes from the content\u001b[39;00m\n",
      "File \u001b[1;32mC:\\Python311\\Lib\\encodings\\cp1252.py:23\u001b[0m, in \u001b[0;36mIncrementalDecoder.decode\u001b[1;34m(self, input, final)\u001b[0m\n\u001b[0;32m     22\u001b[0m \u001b[39mdef\u001b[39;00m \u001b[39mdecode\u001b[39m(\u001b[39mself\u001b[39m, \u001b[39minput\u001b[39m, final\u001b[39m=\u001b[39m\u001b[39mFalse\u001b[39;00m):\n\u001b[1;32m---> 23\u001b[0m     \u001b[39mreturn\u001b[39;00m codecs\u001b[39m.\u001b[39mcharmap_decode(\u001b[39minput\u001b[39m,\u001b[39mself\u001b[39m\u001b[39m.\u001b[39merrors,decoding_table)[\u001b[39m0\u001b[39m]\n",
      "\u001b[1;31mUnicodeDecodeError\u001b[0m: 'charmap' codec can't decode byte 0x8d in position 1824: character maps to <undefined>"
     ]
    }
   ],
   "source": [
    "import string\n",
    "\n",
    "input_file = \"nepalisample.txt\"  # Specify the path to your input file\n",
    "output_file = \"nepalisample2.txt\"  # Specify the path to the output file\n",
    "\n",
    "# Read the content of the input file\n",
    "with open(input_file, \"r\") as file:\n",
    "    content = file.read()\n",
    "\n",
    "punctuations = string.punctuation.replace(\"-\", \"\")\n",
    "\n",
    "# Remove numbers, commas, and backslashes from the content\n",
    "filtered_content = ''.join(char for char in content if not char.isdigit() and char not in punctuations)\n",
    "\n",
    "# Write the filtered content to the output file\n",
    "with open(output_file, \"w\") as file:\n",
    "    file.write(filtered_content)\n",
    "\n",
    "print(\"Filtered content has been written to\", output_file)"
   ]
  },
  {
   "cell_type": "code",
   "execution_count": 1,
   "metadata": {},
   "outputs": [],
   "source": [
    "appendText = '_'\n",
    "with open(\"englishsample.txt\", 'r') as names:\n",
    "    with open(\"englishsample2.txt\", 'a') as updatedNames:\n",
    "        for name in names:\n",
    "            updatedNames.write(appendText + name)"
   ]
  },
  {
   "cell_type": "code",
   "execution_count": 2,
   "metadata": {},
   "outputs": [],
   "source": [
    "appendText = '_'\n",
    "with open(\"Romanized_Nepali_Dataset.txt\", 'r') as names:\n",
    "    with open(\"Romanized_Nepali_Dataset2.txt\", 'a') as updatedNames:\n",
    "        for name in names:\n",
    "            updatedNames.write(appendText + name)"
   ]
  },
  {
   "cell_type": "code",
   "execution_count": null,
   "metadata": {},
   "outputs": [],
   "source": [
    "#print(EnglishFrequency)\n",
    "\n",
    "\n",
    "\"\"\"with open('englishsample.txt') as file:\n",
    "    contents1 = file.read()\n",
    "\n",
    "with open('Romanized_Nepali_Dataset.txt') as file:\n",
    "    contents2 = file.read()\"\"\"\n",
    "\n",
    "'''if word in words2:\n",
    "      print ('word is Nepali')\n",
    "elif word in words1:\n",
    "      print ('word is English')\n",
    "else:'''"
   ]
  },
  {
   "cell_type": "code",
   "execution_count": 35,
   "metadata": {},
   "outputs": [
    {
     "name": "stdout",
     "output_type": "stream",
     "text": [
      "cool\n"
     ]
    },
    {
     "data": {
      "text/plain": [
       "'def find_in_dict(words1,words2,word): \\n    for item in words1:\\n      if word in item:\\n         return \"English\"\\n\\n    for item in words2:\\n      if word in item:\\n        return \"Nepali\"\\n    \\n      \\nprint(find_in_dict(words1,words2,word))'"
      ]
     },
     "execution_count": 35,
     "metadata": {},
     "output_type": "execute_result"
    }
   ],
   "source": [
    "word=\"hmro\"\n",
    "words1 = []\n",
    "with open('englishsample.txt', 'r') as file:\n",
    "        for line in file:\n",
    "            # Split each line into words using whitespace as the delimiter\n",
    "            line_words = line.split()\n",
    "            words1.append(line_words)\n",
    "\n",
    "\n",
    "words2 = []\n",
    "with open('Romanized_Nepali_Dataset.txt', 'r') as file:\n",
    "        for line in file:\n",
    "            # Split each line into words using whitespace as the delimiter\n",
    "            line_words = line.split()\n",
    "            words2.extend(line_words)\n",
    "Nepali=\"\"\n",
    "English=\"\"\n",
    "for item in words1:\n",
    "      if word in item:\n",
    "         English=\"True\"\n",
    "for item in words2:\n",
    "      if word in item:\n",
    "         Nepali=\"True\"\n",
    "\n",
    "if(English==\"True\"):\n",
    "     print(\"Word is English\")\n",
    "elif(Nepali==\"True\"):\n",
    "     print(\"Word is Nepali\")\n",
    "else:\n",
    "     print(\"cool\")\n",
    "'''def find_in_dict(words1,words2,word): \n",
    "    for item in words1:\n",
    "      if word in item:\n",
    "         return \"English\"\n",
    "\n",
    "    for item in words2:\n",
    "      if word in item:\n",
    "        return \"Nepali\"\n",
    "    \n",
    "      \n",
    "print(find_in_dict(words1,words2,word))'''"
   ]
  },
  {
   "cell_type": "code",
   "execution_count": 16,
   "metadata": {},
   "outputs": [
    {
     "name": "stdout",
     "output_type": "stream",
     "text": [
      "ENglish\n"
     ]
    }
   ],
   "source": [
    "word=\"rmro\"\n",
    "def check_word_in_file(word):\n",
    "    with open('englishsample.txt', 'r') as file:\n",
    "        for line in file:\n",
    "            if word in line:\n",
    "                return True\n",
    "    return False\n",
    "if(check_word_in_file(word)):            \n",
    "  print(\"ENglish\")\n",
    "      "
   ]
  },
  {
   "cell_type": "code",
   "execution_count": 6,
   "metadata": {},
   "outputs": [
    {
     "name": "stdout",
     "output_type": "stream",
     "text": [
      "This\n",
      "is\n",
      "a\n",
      "great\n",
      "product\n"
     ]
    }
   ],
   "source": [
    "words=\"This is a great product\"\n",
    "x=words.split()\n",
    "\n",
    "for word in x:\n",
    "    print(word)"
   ]
  },
  {
   "cell_type": "code",
   "execution_count": 10,
   "metadata": {},
   "outputs": [
    {
     "name": "stdout",
     "output_type": "stream",
     "text": [
      "[['kasto naramro product i dont recommend it']]\n",
      "Sentence:\n",
      "kasto naramro product i dont recommend it\n",
      "Predicted labels:\n",
      "O\n",
      "\n"
     ]
    }
   ],
   "source": [
    "\"\"\"python code to read a text file and test the sentence using crfsuite library\"\"\"\n",
    "\n",
    "\n",
    "import pycrfsuite\n",
    "\n",
    "def readCorpus(fpath):\n",
    "    sents = []\n",
    "    with open(fpath) as fd:\n",
    "        sent = []\n",
    "        for l in fd:\n",
    "            lt = l.strip().split('\\t')\n",
    "            if not lt:\n",
    "                if sent:\n",
    "                    sents.append(sent)\n",
    "                    sent = []\n",
    "            else:\n",
    "                sent.append(lt)\n",
    "        if sent:\n",
    "            sents.append(sent)\n",
    "    return sents\n",
    "\n",
    "def word2features(sent, i):\n",
    "    word = sent[i][0]\n",
    "    features = [\n",
    "        'word.lower=' + word.lower(),\n",
    "        'word[-3:]=' + word[-3:],\n",
    "        'word.isupper=%s' % word.isupper(),\n",
    "        'word.istitle=%s' % word.istitle(),\n",
    "        'word.isdigit=%s' % word.isdigit(),\n",
    "    ]\n",
    "    if i > 0:\n",
    "        word1 = sent[i-1][0]\n",
    "        features.extend([\n",
    "            '-1:word.lower=' + word1.lower(),\n",
    "            '-1:word.istitle=%s' % word1.istitle(),\n",
    "            '-1:word.isupper=%s' % word1.isupper(),\n",
    "        ])\n",
    "    else:\n",
    "        features.append('BOS')\n",
    "\n",
    "    if i < len(sent)-1:\n",
    "        word1 = sent[i+1][0]\n",
    "        features.extend([\n",
    "            '+1:word.lower=' + word1.lower(),\n",
    "            '+1:word.istitle=%s' % word1.istitle(),\n",
    "            '+1:word.isupper=%s' % word1.isupper(),\n",
    "        ])\n",
    "    else:\n",
    "        features.append('EOS')\n",
    "\n",
    "    return features\n",
    "\n",
    "def sent2features(sent):\n",
    "    return [word2features(sent, i) for i in range(len(sent))]\n",
    "\n",
    "def test_sentences(sentences, model_path):\n",
    "    tagger = pycrfsuite.Tagger()\n",
    "    tagger.open(model_path)\n",
    "\n",
    "    for sent in sentences:\n",
    "        print(sent)\n",
    "        features = sent2features(sent)\n",
    "        predicted_labels = tagger.tag(features)\n",
    "        tokens = [token[0] for token in sent]\n",
    "\n",
    "        print(\"Sentence:\")\n",
    "        print(\" \".join(tokens))\n",
    "        print(\"Predicted labels:\")\n",
    "        print(\" \".join(predicted_labels))\n",
    "        print()\n",
    "\n",
    "# Read test sentences from a file\n",
    "test_sents = readCorpus(\"E:/Project Sentiment analysis/CRF/xyz.txt\")\n",
    "\n",
    "# Provide the path to your trained CRF model file\n",
    "model_path = \"trained_model\"\n",
    "\n",
    "# Test the sentences using the CRF model\n",
    "test_sentences(test_sents, model_path)"
   ]
  },
  {
   "cell_type": "code",
   "execution_count": 1,
   "metadata": {},
   "outputs": [
    {
     "ename": "NameError",
     "evalue": "name 'pycrfsuite' is not defined",
     "output_type": "error",
     "traceback": [
      "\u001b[1;31m---------------------------------------------------------------------------\u001b[0m",
      "\u001b[1;31mNameError\u001b[0m                                 Traceback (most recent call last)",
      "Cell \u001b[1;32mIn[1], line 16\u001b[0m\n\u001b[0;32m     12\u001b[0m \u001b[39mfrom\u001b[39;00m \u001b[39msklearn_crfsuite\u001b[39;00m \u001b[39mimport\u001b[39;00m metrics\n\u001b[0;32m     14\u001b[0m \u001b[39mfrom\u001b[39;00m \u001b[39msklearn_crfsuite\u001b[39;00m \u001b[39mimport\u001b[39;00m CRF\n\u001b[1;32m---> 16\u001b[0m trainer \u001b[39m=\u001b[39m pycrfsuite\u001b[39m.\u001b[39mTrainer(algorithm\u001b[39m=\u001b[39m\u001b[39m'\u001b[39m\u001b[39ml2sgd\u001b[39m\u001b[39m'\u001b[39m,verbose\u001b[39m=\u001b[39m\u001b[39mFalse\u001b[39;00m)\n\u001b[0;32m     17\u001b[0m \u001b[39mfor\u001b[39;00m xseq, yseq \u001b[39min\u001b[39;00m \u001b[39mzip\u001b[39m(x_train, y_train):\n\u001b[0;32m     18\u001b[0m     trainer\u001b[39m.\u001b[39mappend(xseq, yseq)\n",
      "\u001b[1;31mNameError\u001b[0m: name 'pycrfsuite' is not defined"
     ]
    }
   ],
   "source": [
    "from itertools import chain\n",
    "\n",
    "import nltk\n",
    "import sklearn\n",
    "import scipy.stats\n",
    "from sklearn.metrics import make_scorer\n",
    "from sklearn.model_selection import cross_val_score\n",
    "from sklearn.model_selection import RandomizedSearchCV\n",
    "\n",
    "import sklearn_crfsuite\n",
    "from sklearn_crfsuite import scorers\n",
    "from sklearn_crfsuite import metrics\n",
    "\n",
    "from sklearn_crfsuite import CRF\n",
    "\n",
    "trainer = pycrfsuite.Trainer(algorithm='l2sgd',verbose=False)\n",
    "for xseq, yseq in zip(x_train, y_train):\n",
    "    trainer.append(xseq, yseq)\n",
    "trainer.set_params({\n",
    "    #'c1': 0.01,\n",
    "    'c2': 0.01,\n",
    "    'max_iterations': 100,\n",
    "    'feature.possible_transitions': True\n",
    "    })\n",
    "\n",
    "trainer.train(\"trained_model\")\n",
    "test_object = pycrfsuite.Tagger()\n",
    "test_object.open(\"trained_model\")\n",
    "\n",
    "\n",
    "# define fixed parameters and parameters to search\n",
    "crf = sklearn_crfsuite.CRF(\n",
    "    algorithm='l2sgd',\n",
    "    max_iterations=100,\n",
    "    all_possible_transitions=True\n",
    ")\n",
    "params_space = {\n",
    "    #'c1': scipy.stats.expon(scale=0.5),\n",
    "    'c2': scipy.stats.expon(scale=0.05),\n",
    "}\n",
    "\n",
    "# use the same metric for evaluation\n",
    "f1_scorer = make_scorer(metrics.flat_f1_score,\n",
    "                        average='weighted')\n",
    "\n",
    "# search\n",
    "rs = RandomizedSearchCV(crf, params_space,\n",
    "                        cv=3,\n",
    "                        verbose=1,\n",
    "                        n_jobs=-1,\n",
    "                        n_iter=50,\n",
    "                        scoring=f1_scorer)\n",
    "rs.fit(x_train, y_train)"
   ]
  }
 ],
 "metadata": {
  "kernelspec": {
   "display_name": "projenv",
   "language": "python",
   "name": "python3"
  },
  "language_info": {
   "codemirror_mode": {
    "name": "ipython",
    "version": 3
   },
   "file_extension": ".py",
   "mimetype": "text/x-python",
   "name": "python",
   "nbconvert_exporter": "python",
   "pygments_lexer": "ipython3",
   "version": "3.11.0"
  },
  "orig_nbformat": 4
 },
 "nbformat": 4,
 "nbformat_minor": 2
}
