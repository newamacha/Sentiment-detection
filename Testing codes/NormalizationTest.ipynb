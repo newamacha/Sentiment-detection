{
 "cells": [
  {
   "cell_type": "code",
   "execution_count": 20,
   "metadata": {},
   "outputs": [
    {
     "name": "stdout",
     "output_type": "stream",
     "text": [
      "Requirement already satisfied: InexactSearch in e:\\project sentiment analysis\\projenv\\lib\\site-packages (1.0.2)Note: you may need to restart the kernel to use updated packages.\n"
     ]
    },
    {
     "name": "stderr",
     "output_type": "stream",
     "text": [
      "\n",
      "[notice] A new release of pip available: 22.3 -> 23.1.2\n",
      "[notice] To update, run: python.exe -m pip install --upgrade pip\n"
     ]
    },
    {
     "name": "stdout",
     "output_type": "stream",
     "text": [
      "\n",
      "Requirement already satisfied: soundex>=1.0 in e:\\project sentiment analysis\\projenv\\lib\\site-packages (from InexactSearch) (1.1.3)\n",
      "Requirement already satisfied: silpa_common>=0.3 in e:\\project sentiment analysis\\projenv\\lib\\site-packages (from InexactSearch) (0.3)\n"
     ]
    }
   ],
   "source": [
    "pip install InexactSearch"
   ]
  },
  {
   "cell_type": "code",
   "execution_count": 21,
   "metadata": {},
   "outputs": [
    {
     "name": "stdout",
     "output_type": "stream",
     "text": [
      "0.9\n"
     ]
    }
   ],
   "source": [
    "from inexactsearch import InexactSearch\n",
    "instance = InexactSearch() #levenstein distance\n",
    "A='rmro'\n",
    "word='ramro'\n",
    "r=instance.compare(A,word)\n",
    "print(r)"
   ]
  },
  {
   "cell_type": "code",
   "execution_count": 32,
   "metadata": {},
   "outputs": [
    {
     "name": "stdout",
     "output_type": "stream",
     "text": [
      "0.8\n",
      "0.9\n",
      "0.8\n",
      "0.9\n",
      "0.8\n",
      "0.9\n",
      "['adhar', 'amar', 'amar']\n"
     ]
    }
   ],
   "source": [
    "import string\n",
    "from inexactsearch import InexactSearch\n",
    "\n",
    "NepaliList=[\"khtra\",\"rmro\",\"tmro\"]\n",
    "instance = InexactSearch() #levenstein distance\n",
    "\n",
    "def NepNormalize(A):\n",
    "  simi=0\n",
    "  word1=''\n",
    "  with open('Romanized_Nepali_Dataset.txt', 'r') as file:\n",
    "          for line in file:\n",
    "              words = line.split()\n",
    "              for word in words:\n",
    "                  word = word.lower().strip(string.punctuation)\n",
    "                  # print(f\"{A} and {word}\")\n",
    "                  r=instance.compare(A,word)\n",
    "                  if(r>simi):\n",
    "                     simi=r\n",
    "                     print(simi)\n",
    "                     word1=word\n",
    "          if(simi>0.8):            \n",
    "            #print(word1) \n",
    "            return word1\n",
    "          else:\n",
    "            return A\n",
    "\n",
    "\"\"\"for word in NepaliList:\n",
    "      print(word)\n",
    "      normword=NepNormalize(word)\"\"\"\n",
    "      \n",
    "for index, word in enumerate(NepaliList):\n",
    "    word=word.lower().strip(string.punctuation)\n",
    "    normword=NepNormalize(word)\n",
    "    NepaliList[index] = normword\n",
    "print(NepaliList)"
   ]
  },
  {
   "cell_type": "code",
   "execution_count": 33,
   "metadata": {},
   "outputs": [
    {
     "name": "stdout",
     "output_type": "stream",
     "text": [
      "Note: you may need to restart the kernel to use updated packages.Collecting phonetics\n",
      "  Downloading phonetics-1.0.5.tar.gz (8.8 kB)\n",
      "  Preparing metadata (setup.py): started\n",
      "  Preparing metadata (setup.py): finished with status 'done'\n",
      "Installing collected packages: phonetics\n",
      "  Running setup.py install for phonetics: started\n",
      "  Running setup.py install for phonetics: finished with status 'done'\n",
      "Successfully installed phonetics-1.0.5\n",
      "\n"
     ]
    },
    {
     "name": "stderr",
     "output_type": "stream",
     "text": [
      "  DEPRECATION: phonetics is being installed using the legacy 'setup.py install' method, because it does not have a 'pyproject.toml' and the 'wheel' package is not installed. pip 23.1 will enforce this behaviour change. A possible replacement is to enable the '--use-pep517' option. Discussion can be found at https://github.com/pypa/pip/issues/8559\n",
      "\n",
      "[notice] A new release of pip available: 22.3 -> 23.1.2\n",
      "[notice] To update, run: python.exe -m pip install --upgrade pip\n"
     ]
    }
   ],
   "source": [
    "pip install phonetics"
   ]
  },
  {
   "cell_type": "code",
   "execution_count": 116,
   "metadata": {},
   "outputs": [
    {
     "name": "stdout",
     "output_type": "stream",
     "text": [
      "0.5555555555555556\n"
     ]
    }
   ],
   "source": [
    "import phonetics\n",
    "from inexactsearch import InexactSearch\n",
    "\n",
    "A=phonetics.soundex('bhayo')\n",
    "word=phonetics.soundex('vayo')\n",
    "start_A = A[0]\n",
    "start_word = word[0]\n",
    "r=instance.bigram_average(A,word)\n",
    "print(r)\n",
    "if start_A == start_word and r > 0.4:\n",
    "  print(f\"{A} and {word}\")\n",
    "  \n",
    "  print(r)\n"
   ]
  },
  {
   "cell_type": "code",
   "execution_count": 118,
   "metadata": {},
   "outputs": [
    {
     "name": "stdout",
     "output_type": "stream",
     "text": [
      "vayo\n",
      "vayo\n",
      "khtra\n",
      "katauro\n",
      "bhayo\n",
      "bhayo\n"
     ]
    }
   ],
   "source": [
    "import string\n",
    "from inexactsearch import InexactSearch\n",
    "import phonetics\n",
    "\n",
    "NepaliList=[\"vayo\",\"khtra\",\"bhayo\"]\n",
    "instance = InexactSearch() #levenstein distance\n",
    "\n",
    "def phonetic_word(w):\n",
    "    try:\n",
    "      return phonetics.soundex(w)\n",
    "    except:\n",
    "        return None\n",
    "\n",
    "def NepNormalize(A):\n",
    "  simi=0\n",
    "  word1=''\n",
    "  with open('Romanized_Nepali_Dataset.txt', 'r') as file:\n",
    "          for line in file:\n",
    "              words = line.split()\n",
    "              for word in words:\n",
    "                  word = word.lower().strip(string.punctuation)\n",
    "                  # print(f\"{A} and {word}\")\n",
    "                  w1 = str(A)\n",
    "                  w2 = str(word)\n",
    "                  pw1=phonetic_word(w1)\n",
    "                  pw2=phonetic_word(w2)\n",
    "                  if pw1 is None or pw2 is None:\n",
    "                      continue\n",
    "                  r=instance.bigram_average(pw1,pw2)\n",
    "                  # and pw1.endswith(pw1[-2:]) == pw2.endswith(pw2[-2:])\n",
    "                  if(pw1[0] == pw2[0] and r > 0.6):\n",
    "                     return word\n",
    "          \n",
    "  return A\n",
    "\n",
    "\"\"\"for word in NepaliList:\n",
    "      print(word)\n",
    "      normword=NepNormalize(word)\"\"\"\n",
    "      \n",
    "for index, word in enumerate(NepaliList):\n",
    "    word=word.lower().strip(string.punctuation)\n",
    "    print(word)\n",
    "    print(NepNormalize(word))\n",
    "#     NepaliList[index] = normword\n",
    "# print(NepaliList)"
   ]
  },
  {
   "cell_type": "code",
   "execution_count": 87,
   "metadata": {},
   "outputs": [
    {
     "name": "stdout",
     "output_type": "stream",
     "text": [
      "Note: you may need to restart the kernel to use updated packages.Collecting pyphonetics\n",
      "  Downloading pyphonetics-0.5.3-py2.py3-none-any.whl (10 kB)\n",
      "Collecting unidecode<2,>=1\n",
      "  Downloading Unidecode-1.3.6-py3-none-any.whl (235 kB)\n",
      "     ------------------------------------ 235.9/235.9 kB 222.1 kB/s eta 0:00:00\n",
      "Installing collected packages: unidecode, pyphonetics\n",
      "Successfully installed pyphonetics-0.5.3 unidecode-1.3.6\n",
      "\n"
     ]
    },
    {
     "name": "stderr",
     "output_type": "stream",
     "text": [
      "\n",
      "[notice] A new release of pip available: 22.3 -> 23.1.2\n",
      "[notice] To update, run: python.exe -m pip install --upgrade pip\n"
     ]
    }
   ],
   "source": [
    "pip install pyphonetics"
   ]
  },
  {
   "cell_type": "code",
   "execution_count": 106,
   "metadata": {},
   "outputs": [
    {
     "name": "stdout",
     "output_type": "stream",
     "text": [
      "2\n"
     ]
    },
    {
     "data": {
      "text/plain": [
       "2"
      ]
     },
     "execution_count": 106,
     "metadata": {},
     "output_type": "execute_result"
    }
   ],
   "source": [
    "from pyphonetics import RefinedSoundex\n",
    "\n",
    "rs = RefinedSoundex()\n",
    "print(rs.distance('bhayo', 'vayo'))\n",
    "\n",
    "rs.distance('assign', 'assist', metric='hamming')\n"
   ]
  }
 ],
 "metadata": {
  "kernelspec": {
   "display_name": "projenv",
   "language": "python",
   "name": "python3"
  },
  "language_info": {
   "codemirror_mode": {
    "name": "ipython",
    "version": 3
   },
   "file_extension": ".py",
   "mimetype": "text/x-python",
   "name": "python",
   "nbconvert_exporter": "python",
   "pygments_lexer": "ipython3",
   "version": "3.11.0"
  },
  "orig_nbformat": 4
 },
 "nbformat": 4,
 "nbformat_minor": 2
}
