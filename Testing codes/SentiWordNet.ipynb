{
 "cells": [
  {
   "cell_type": "code",
   "execution_count": 2,
   "metadata": {},
   "outputs": [
    {
     "name": "stdout",
     "output_type": "stream",
     "text": [
      "sentiment of This:0.0\n",
      "sentiment of is:0.0\n",
      "sentiment of a:0.0\n",
      "sentiment of bad:-0.5423\n",
      "sentiment of product:0.0\n",
      "0\n",
      "1\n"
     ]
    }
   ],
   "source": [
    "EnglishList=[\"This\",\"is\",\"a\",\"bad\",\"product\"]\n",
    "\n",
    "from nltk.sentiment import SentimentIntensityAnalyzer\n",
    "\n",
    "def get_word_sentiment(word):\n",
    "    analyzer = SentimentIntensityAnalyzer()\n",
    "    sentiment_scores = analyzer.polarity_scores(word)\n",
    "    sentiment = sentiment_scores['compound']\n",
    "    return sentiment\n",
    "\n",
    "PositiveSentimentCount=0\n",
    "NegativeSentimentCount=0\n",
    "for word in EnglishList:\n",
    "  sentiment = get_word_sentiment(word)\n",
    "  if(sentiment>0):\n",
    "     PositiveSentimentCount+=1\n",
    "  elif(sentiment<0):\n",
    "     NegativeSentimentCount+=1\n",
    "  print(f\"sentiment of {word}:{sentiment}\")\n",
    "\n",
    "print(PositiveSentimentCount)\n",
    "print(NegativeSentimentCount)\n",
    "\n"
   ]
  },
  {
   "cell_type": "code",
   "execution_count": 7,
   "metadata": {},
   "outputs": [
    {
     "name": "stdout",
     "output_type": "stream",
     "text": [
      "{'neg': 0.0, 'neu': 0.0, 'pos': 1.0, 'compound': 0.3612}\n"
     ]
    }
   ],
   "source": [
    "\n",
    "from nltk.sentiment import SentimentIntensityAnalyzer\n",
    "\n",
    "analyze=SentimentIntensityAnalyzer()\n",
    "print(analyze.polarity_scores(\"recommend\"))"
   ]
  }
 ],
 "metadata": {
  "kernelspec": {
   "display_name": "projenv",
   "language": "python",
   "name": "python3"
  },
  "language_info": {
   "codemirror_mode": {
    "name": "ipython",
    "version": 3
   },
   "file_extension": ".py",
   "mimetype": "text/x-python",
   "name": "python",
   "nbconvert_exporter": "python",
   "pygments_lexer": "ipython3",
   "version": "3.11.0"
  },
  "orig_nbformat": 4
 },
 "nbformat": 4,
 "nbformat_minor": 2
}
